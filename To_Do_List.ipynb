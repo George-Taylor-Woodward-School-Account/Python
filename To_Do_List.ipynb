{
  "nbformat": 4,
  "nbformat_minor": 0,
  "metadata": {
    "colab": {
      "provenance": [],
      "authorship_tag": "ABX9TyOwm+30YqodvLBs47dX9e5X",
      "include_colab_link": true
    },
    "kernelspec": {
      "name": "python3",
      "display_name": "Python 3"
    },
    "language_info": {
      "name": "python"
    }
  },
  "cells": [
    {
      "cell_type": "markdown",
      "metadata": {
        "id": "view-in-github",
        "colab_type": "text"
      },
      "source": [
        "<a href=\"https://colab.research.google.com/github/George-Taylor-Woodward-School-Account/Python/blob/main/To_Do_List.ipynb\" target=\"_parent\"><img src=\"https://colab.research.google.com/assets/colab-badge.svg\" alt=\"Open In Colab\"/></a>"
      ]
    },
    {
      "cell_type": "code",
      "execution_count": null,
      "metadata": {
        "colab": {
          "base_uri": "https://localhost:8080/"
        },
        "id": "dN-j_ly-VXu8",
        "outputId": "fefa5003-1e91-470e-a536-c39aa58a4d22"
      },
      "outputs": [
        {
          "output_type": "stream",
          "name": "stdout",
          "text": [
            "[TO-DO LIST MENU]\n",
            "\n",
            " 1. View List\n",
            " 2. Add Task\n",
            " 3. Remove Task\n",
            " 4. Exit\n"
          ]
        }
      ],
      "source": [
        "print(\"[TO-DO LIST MENU]\\n\\n 1. View List\\n 2. Add Task\\n 3. Remove Task\\n 4. Exit\")\n",
        "selection = int(input(\"\\nYou Selection: \"))"
      ]
    }
  ]
}