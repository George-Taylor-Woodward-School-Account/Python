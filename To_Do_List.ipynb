{
  "cells": [
    {
      "cell_type": "markdown",
      "metadata": {
        "id": "view-in-github",
        "colab_type": "text"
      },
      "source": [
        "<a href=\"https://colab.research.google.com/github/George-Taylor-Woodward-School-Account/Python/blob/main/To_Do_List.ipynb\" target=\"_parent\"><img src=\"https://colab.research.google.com/assets/colab-badge.svg\" alt=\"Open In Colab\"/></a>"
      ]
    },
    {
      "cell_type": "code",
      "execution_count": 41,
      "metadata": {
        "colab": {
          "base_uri": "https://localhost:8080/",
          "height": 575
        },
        "id": "dN-j_ly-VXu8",
        "outputId": "f3741b7b-0dab-41b5-8b82-55313d9b6cf6"
      },
      "outputs": [
        {
          "name": "stdout",
          "output_type": "stream",
          "text": [
            " [TO-DO LIST MENU]\n",
            "\n",
            "  1. View List\n",
            "  2. Add Task\n",
            "  3. Remove Task\n",
            "  4. Clear  List\n",
            "  5. Exit\n",
            "\n",
            " Your Selection: 2\n",
            "\n",
            " Task: yes\n",
            "\n",
            "  1. View List\n",
            "  2. Add Task\n",
            "  3. Remove Task\n",
            "  4. Clear  List\n",
            "  5. Exit\n",
            "\n",
            " Your Selection: 3\n",
            "\n",
            " Remove: ffff\n"
          ]
        },
        {
          "output_type": "error",
          "ename": "ValueError",
          "evalue": "list.remove(x): x not in list",
          "traceback": [
            "\u001b[0;31m---------------------------------------------------------------------------\u001b[0m",
            "\u001b[0;31mValueError\u001b[0m                                Traceback (most recent call last)",
            "\u001b[0;32m<ipython-input-41-78b39adcbcae>\u001b[0m in \u001b[0;36m<cell line: 0>\u001b[0;34m()\u001b[0m\n\u001b[1;32m     31\u001b[0m       \u001b[0;32mexcept\u001b[0m \u001b[0mValueError\u001b[0m \u001b[0;32mas\u001b[0m \u001b[0mve\u001b[0m\u001b[0;34m:\u001b[0m\u001b[0;34m\u001b[0m\u001b[0;34m\u001b[0m\u001b[0m\n\u001b[1;32m     32\u001b[0m         \u001b[0mprint\u001b[0m\u001b[0;34m(\u001b[0m\u001b[0;34m\"\\n   /Invali Input/\"\u001b[0m\u001b[0;34m)\u001b[0m\u001b[0;34m\u001b[0m\u001b[0;34m\u001b[0m\u001b[0m\n\u001b[0;32m---> 33\u001b[0;31m     \u001b[0mlst\u001b[0m\u001b[0;34m.\u001b[0m\u001b[0mremove\u001b[0m\u001b[0;34m(\u001b[0m\u001b[0mremove\u001b[0m\u001b[0;34m)\u001b[0m\u001b[0;34m\u001b[0m\u001b[0;34m\u001b[0m\u001b[0m\n\u001b[0m\u001b[1;32m     34\u001b[0m   \u001b[0;32melif\u001b[0m \u001b[0mselection\u001b[0m \u001b[0;34m==\u001b[0m \u001b[0;36m4\u001b[0m\u001b[0;34m:\u001b[0m\u001b[0;34m\u001b[0m\u001b[0;34m\u001b[0m\u001b[0m\n\u001b[1;32m     35\u001b[0m     \u001b[0mlst\u001b[0m\u001b[0;34m.\u001b[0m\u001b[0mclear\u001b[0m\u001b[0;34m(\u001b[0m\u001b[0;34m)\u001b[0m\u001b[0;34m\u001b[0m\u001b[0;34m\u001b[0m\u001b[0m\n",
            "\u001b[0;31mValueError\u001b[0m: list.remove(x): x not in list"
          ]
        }
      ],
      "source": [
        "print(\" [TO-DO LIST MENU]\")\n",
        "\n",
        "lst = []\n",
        "\n",
        "running = True\n",
        "\n",
        "while running == True:\n",
        "\n",
        "  print(\"\\n  1. View List\\n  2. Add Task\\n  3. Remove Task\\n  4. Clear  List\\n  5. Exit\")\n",
        "\n",
        "  while True:\n",
        "    try:\n",
        "      selection = int(input(\"\\n Your Selection: \"))\n",
        "      if selection < 6 and selection > 0:\n",
        "        break\n",
        "      else:\n",
        "        print(\"\\n   /Invalid Input/\")\n",
        "    except ValueError as ve:\n",
        "      print(\"\\n   /Invali Input/\")\n",
        "\n",
        "  if selection == 1:\n",
        "    print(\"\\n \", lst)\n",
        "  elif selection == 2:\n",
        "    add = input(\"\\n Task: \")\n",
        "    lst.append(add)\n",
        "  elif selection == 3:\n",
        "    remove = input(\"\\n Remove: \")\n",
        "    lst.remove(remove)\n",
        "  elif selection == 4:\n",
        "    lst.clear()\n",
        "  elif selection == 5:\n",
        "    running = False"
      ]
    }
  ],
  "metadata": {
    "colab": {
      "provenance": [],
      "authorship_tag": "ABX9TyMlID42d5Pz84u9jMiWLXnA",
      "include_colab_link": true
    },
    "kernelspec": {
      "display_name": "Python 3",
      "name": "python3"
    },
    "language_info": {
      "name": "python"
    }
  },
  "nbformat": 4,
  "nbformat_minor": 0
}