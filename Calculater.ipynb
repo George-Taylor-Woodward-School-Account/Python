{
  "nbformat": 4,
  "nbformat_minor": 0,
  "metadata": {
    "colab": {
      "provenance": [],
      "authorship_tag": "ABX9TyPW4vQ1T6OnLIoqMeS2fB2W",
      "include_colab_link": true
    },
    "kernelspec": {
      "name": "python3",
      "display_name": "Python 3"
    },
    "language_info": {
      "name": "python"
    }
  },
  "cells": [
    {
      "cell_type": "markdown",
      "metadata": {
        "id": "view-in-github",
        "colab_type": "text"
      },
      "source": [
        "<a href=\"https://colab.research.google.com/github/George-Taylor-Woodward-School-Account/Python/blob/main/Calculater.ipynb\" target=\"_parent\"><img src=\"https://colab.research.google.com/assets/colab-badge.svg\" alt=\"Open In Colab\"/></a>"
      ]
    },
    {
      "cell_type": "code",
      "execution_count": null,
      "metadata": {
        "id": "2S9sw-By9Ayn",
        "colab": {
          "base_uri": "https://localhost:8080/"
        },
        "outputId": "6818a3cb-396d-4ef4-b148-099a789971db"
      },
      "outputs": [
        {
          "name": "stdout",
          "output_type": "stream",
          "text": [
            "\n",
            "First Number: 4\n",
            "Second Number: 4\n",
            "\n",
            "1. Addition\n",
            "2. Subtraction\n",
            "3. Division\n",
            "4. Multiplication\n",
            "Your Selection: 4\n",
            "\n",
            " 4 * 4 = 16\n",
            "\n",
            "Restart? \n",
            "1. Yes\n",
            "2. No\n",
            "Your Selection: 2\n"
          ]
        }
      ],
      "source": [
        "def check_selection(selection):\n",
        "  match selection:\n",
        "    case 1:\n",
        "      answer = num1 + num2\n",
        "      print(\"\\n\", num1, \"+\", num2, \"=\", answer)\n",
        "    case 2:\n",
        "      answer = num1 - num2\n",
        "      print(\"\\n\", num1, \"-\", num2, \"=\", answer)\n",
        "    case 3:\n",
        "      answer = num1 / num2\n",
        "      print(\"\\n\", num1, \"/\", num2, \"=\", answer)\n",
        "    case 4:\n",
        "      answer = num1 * num2\n",
        "      print(\"\\n\", num1, \"*\", num2, \"=\", answer)\n",
        "  if selection > 4 or selection < 1:\n",
        "      print(\"\\nInvalid Input\")\n",
        "\n",
        "\n",
        "running = True\n",
        "\n",
        "while running == True:\n",
        "  while True:\n",
        "    try:\n",
        "      num1 = int(input(\"\\nFirst Number: \"))\n",
        "      break\n",
        "    except ValueError as ve:\n",
        "      print(\"\\nInvalid Input\")\n",
        "\n",
        "  while True:\n",
        "    try:\n",
        "      num2 = int(input(\"Second Number: \"))\n",
        "      break\n",
        "    except ValueError as ve:\n",
        "      print(\"\\nInvalid Input\")\n",
        "\n",
        "  print(\"\\n1. Addition\\n2. Subtraction\\n3. Division\\n4. Multiplication\")\n",
        "  while True:\n",
        "    try:\n",
        "      selection = int(input(\"Your Selection: \"))\n",
        "      if selection > 0 and selection < 5:\n",
        "        break\n",
        "      else:\n",
        "        print(\"\\nInvalid Input\")\n",
        "    except ValueError as ve:\n",
        "      print(\"\\nInvalid Input\")\n",
        "  check_selection(selection)\n",
        "\n",
        "  print(\"\\nRestart? \\n1. Yes\\n2. No\")\n",
        "  while True:\n",
        "    try:\n",
        "      restart = int(input(\"Your Selection: \"))\n",
        "      if restart == 1:\n",
        "        break\n",
        "      elif restart == 2:\n",
        "        running = False\n",
        "        break\n",
        "      else:\n",
        "         print(\"\\nInvalid Input\")\n",
        "    except ValueError as ve:\n",
        "      print(\"\\nInvalid Input\")"
      ]
    }
  ]
}