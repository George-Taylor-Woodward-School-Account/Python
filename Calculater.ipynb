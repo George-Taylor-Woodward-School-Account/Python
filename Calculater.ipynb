{
  "nbformat": 4,
  "nbformat_minor": 0,
  "metadata": {
    "colab": {
      "provenance": [],
      "authorship_tag": "ABX9TyMs26N+2TzR2M2tayiUFQDU",
      "include_colab_link": true
    },
    "kernelspec": {
      "name": "python3",
      "display_name": "Python 3"
    },
    "language_info": {
      "name": "python"
    }
  },
  "cells": [
    {
      "cell_type": "markdown",
      "metadata": {
        "id": "view-in-github",
        "colab_type": "text"
      },
      "source": [
        "<a href=\"https://colab.research.google.com/github/George-Taylor-Woodward-School-Account/Python/blob/main/Calculater.ipynb\" target=\"_parent\"><img src=\"https://colab.research.google.com/assets/colab-badge.svg\" alt=\"Open In Colab\"/></a>"
      ]
    },
    {
      "cell_type": "code",
      "execution_count": null,
      "metadata": {
        "id": "2S9sw-By9Ayn",
        "colab": {
          "base_uri": "https://localhost:8080/"
        },
        "outputId": "4cbf2736-634f-4efd-da9a-81160f6645c6"
      },
      "outputs": [
        {
          "output_type": "stream",
          "name": "stdout",
          "text": [
            "[TWO NUMBERED CALCULATOR]\n",
            "\n",
            "Enter 2 numbers and then input the what you want to do with them.\n"
          ]
        }
      ],
      "source": [
        "def check_selection(selection):\n",
        "  match selection:\n",
        "    case 1:\n",
        "      answer = num1 + num2\n",
        "      print(\"\\n\", num1, \"+\", num2, \"=\", answer)\n",
        "    case 2:\n",
        "      answer = num1 - num2\n",
        "      print(\"\\n\", num1, \"-\", num2, \"=\", answer)\n",
        "    case 3:\n",
        "      answer = num1 / num2\n",
        "      print(\"\\n\", num1, \"/\", num2, \"=\", answer)\n",
        "    case 4:\n",
        "      answer = num1 * num2\n",
        "      print(\"\\n\", num1, \"*\", num2, \"=\", answer)\n",
        "  if selection > 4 or selection < 1:\n",
        "      print(\"\\n Invalid Input\")\n",
        "\n",
        "running = True\n",
        "\n",
        "print(\"\\n [TWO NUMBERED CALCULATOR]\")\n",
        "\n",
        "print(\"\\n Enter 2 numbers and then input the what operation you want.\")\n",
        "\n",
        "while running == True:\n",
        "  while True:\n",
        "    try:\n",
        "      num1 = int(input(\"\\n First Number: \"))\n",
        "      break\n",
        "    except ValueError as ve:\n",
        "      print(\"\\n Invalid Input\")\n",
        "\n",
        "  while True:\n",
        "    try:\n",
        "      num2 = int(input(\" Second Number: \"))\n",
        "      break\n",
        "    except ValueError as ve:\n",
        "      print(\"\\n Invalid Input\")\n",
        "\n",
        "  print(\"\\n 1. Addition\\n2. Subtraction\\n3. Division\\n4. Multiplication\")\n",
        "  while True:\n",
        "    try:\n",
        "      selection = int(input(\" Your Selection: \"))\n",
        "      if selection > 0 and selection < 5:\n",
        "        break\n",
        "      else:\n",
        "        print(\"\\n Invalid Input\")\n",
        "    except ValueError as ve:\n",
        "      print(\"\\n Invalid Input\")\n",
        "  check_selection(selection)\n",
        "\n",
        "  print(\"\\n Restart? \\n1. Yes\\n2. No\")\n",
        "  while True:\n",
        "    try:\n",
        "      restart = int(input(\" Your Selection: \"))\n",
        "      if restart == 1:\n",
        "        break\n",
        "      elif restart == 2:\n",
        "        running = False\n",
        "        break\n",
        "      else:\n",
        "         print(\"\\n Invalid Input\")\n",
        "    except ValueError as ve:\n",
        "      print(\"\\n Invalid Input\")"
      ]
    }
  ]
}