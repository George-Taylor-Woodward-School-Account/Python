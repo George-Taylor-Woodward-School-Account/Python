{
  "nbformat": 4,
  "nbformat_minor": 0,
  "metadata": {
    "colab": {
      "provenance": [],
      "authorship_tag": "ABX9TyMNsbjirVZXoSkFBamvuPm1",
      "include_colab_link": true
    },
    "kernelspec": {
      "name": "python3",
      "display_name": "Python 3"
    },
    "language_info": {
      "name": "python"
    }
  },
  "cells": [
    {
      "cell_type": "markdown",
      "metadata": {
        "id": "view-in-github",
        "colab_type": "text"
      },
      "source": [
        "<a href=\"https://colab.research.google.com/github/George-Taylor-Woodward-School-Account/Python/blob/main/Calculater.ipynb\" target=\"_parent\"><img src=\"https://colab.research.google.com/assets/colab-badge.svg\" alt=\"Open In Colab\"/></a>"
      ]
    },
    {
      "cell_type": "code",
      "execution_count": 18,
      "metadata": {
        "id": "2S9sw-By9Ayn",
        "colab": {
          "base_uri": "https://localhost:8080/",
          "height": 877
        },
        "outputId": "de07da81-56fd-448a-c288-33293bd1ccde"
      },
      "outputs": [
        {
          "output_type": "stream",
          "name": "stdout",
          "text": [
            "\n",
            " [TWO NUMBERED CALCULATOR]\n",
            "\n",
            " Enter 2 numbers and then input the what operation you want.\n",
            "\n",
            " First Number: f\n",
            "\n",
            "  Invalid Input\n",
            "\n",
            " First Number: 5\n",
            "\n",
            " Second Number: 5\n",
            "\n",
            "  1. Addition\n",
            "  2. Subtraction\n",
            "  3. Division\n",
            "  4. Multiplication\n",
            "\n",
            " Your Selection: f\n",
            "\n",
            "  Invalid Input\n",
            "\n",
            " Your Selection: 4\n",
            "\n",
            " 5 * 5 = 25\n",
            "\n",
            " Restart? \n",
            "\n",
            "  1. Yes\n",
            "  2. No\n"
          ]
        },
        {
          "output_type": "error",
          "ename": "KeyboardInterrupt",
          "evalue": "Interrupted by user",
          "traceback": [
            "\u001b[0;31m---------------------------------------------------------------------------\u001b[0m",
            "\u001b[0;31mKeyboardInterrupt\u001b[0m                         Traceback (most recent call last)",
            "\u001b[0;32m<ipython-input-18-1843e236a619>\u001b[0m in \u001b[0;36m<cell line: 0>\u001b[0;34m()\u001b[0m\n\u001b[1;32m     52\u001b[0m   \u001b[0;32mwhile\u001b[0m \u001b[0;32mTrue\u001b[0m\u001b[0;34m:\u001b[0m\u001b[0;34m\u001b[0m\u001b[0;34m\u001b[0m\u001b[0m\n\u001b[1;32m     53\u001b[0m     \u001b[0;32mtry\u001b[0m\u001b[0;34m:\u001b[0m\u001b[0;34m\u001b[0m\u001b[0;34m\u001b[0m\u001b[0m\n\u001b[0;32m---> 54\u001b[0;31m       \u001b[0mrestart\u001b[0m \u001b[0;34m=\u001b[0m \u001b[0mint\u001b[0m\u001b[0;34m(\u001b[0m\u001b[0minput\u001b[0m\u001b[0;34m(\u001b[0m\u001b[0;34m\"\\n Your Selection: \"\u001b[0m\u001b[0;34m)\u001b[0m\u001b[0;34m)\u001b[0m\u001b[0;34m\u001b[0m\u001b[0;34m\u001b[0m\u001b[0m\n\u001b[0m\u001b[1;32m     55\u001b[0m       \u001b[0;32mif\u001b[0m \u001b[0mrestart\u001b[0m \u001b[0;34m==\u001b[0m \u001b[0;36m1\u001b[0m\u001b[0;34m:\u001b[0m\u001b[0;34m\u001b[0m\u001b[0;34m\u001b[0m\u001b[0m\n\u001b[1;32m     56\u001b[0m         \u001b[0;32mbreak\u001b[0m\u001b[0;34m\u001b[0m\u001b[0;34m\u001b[0m\u001b[0m\n",
            "\u001b[0;32m/usr/local/lib/python3.11/dist-packages/ipykernel/kernelbase.py\u001b[0m in \u001b[0;36mraw_input\u001b[0;34m(self, prompt)\u001b[0m\n\u001b[1;32m   1175\u001b[0m                 \u001b[0;34m\"raw_input was called, but this frontend does not support input requests.\"\u001b[0m\u001b[0;34m\u001b[0m\u001b[0;34m\u001b[0m\u001b[0m\n\u001b[1;32m   1176\u001b[0m             )\n\u001b[0;32m-> 1177\u001b[0;31m         return self._input_request(\n\u001b[0m\u001b[1;32m   1178\u001b[0m             \u001b[0mstr\u001b[0m\u001b[0;34m(\u001b[0m\u001b[0mprompt\u001b[0m\u001b[0;34m)\u001b[0m\u001b[0;34m,\u001b[0m\u001b[0;34m\u001b[0m\u001b[0;34m\u001b[0m\u001b[0m\n\u001b[1;32m   1179\u001b[0m             \u001b[0mself\u001b[0m\u001b[0;34m.\u001b[0m\u001b[0m_parent_ident\u001b[0m\u001b[0;34m[\u001b[0m\u001b[0;34m\"shell\"\u001b[0m\u001b[0;34m]\u001b[0m\u001b[0;34m,\u001b[0m\u001b[0;34m\u001b[0m\u001b[0;34m\u001b[0m\u001b[0m\n",
            "\u001b[0;32m/usr/local/lib/python3.11/dist-packages/ipykernel/kernelbase.py\u001b[0m in \u001b[0;36m_input_request\u001b[0;34m(self, prompt, ident, parent, password)\u001b[0m\n\u001b[1;32m   1217\u001b[0m             \u001b[0;32mexcept\u001b[0m \u001b[0mKeyboardInterrupt\u001b[0m\u001b[0;34m:\u001b[0m\u001b[0;34m\u001b[0m\u001b[0;34m\u001b[0m\u001b[0m\n\u001b[1;32m   1218\u001b[0m                 \u001b[0;31m# re-raise KeyboardInterrupt, to truncate traceback\u001b[0m\u001b[0;34m\u001b[0m\u001b[0;34m\u001b[0m\u001b[0m\n\u001b[0;32m-> 1219\u001b[0;31m                 \u001b[0;32mraise\u001b[0m \u001b[0mKeyboardInterrupt\u001b[0m\u001b[0;34m(\u001b[0m\u001b[0;34m\"Interrupted by user\"\u001b[0m\u001b[0;34m)\u001b[0m \u001b[0;32mfrom\u001b[0m \u001b[0;32mNone\u001b[0m\u001b[0;34m\u001b[0m\u001b[0;34m\u001b[0m\u001b[0m\n\u001b[0m\u001b[1;32m   1220\u001b[0m             \u001b[0;32mexcept\u001b[0m \u001b[0mException\u001b[0m\u001b[0;34m:\u001b[0m\u001b[0;34m\u001b[0m\u001b[0;34m\u001b[0m\u001b[0m\n\u001b[1;32m   1221\u001b[0m                 \u001b[0mself\u001b[0m\u001b[0;34m.\u001b[0m\u001b[0mlog\u001b[0m\u001b[0;34m.\u001b[0m\u001b[0mwarning\u001b[0m\u001b[0;34m(\u001b[0m\u001b[0;34m\"Invalid Message:\"\u001b[0m\u001b[0;34m,\u001b[0m \u001b[0mexc_info\u001b[0m\u001b[0;34m=\u001b[0m\u001b[0;32mTrue\u001b[0m\u001b[0;34m)\u001b[0m\u001b[0;34m\u001b[0m\u001b[0;34m\u001b[0m\u001b[0m\n",
            "\u001b[0;31mKeyboardInterrupt\u001b[0m: Interrupted by user"
          ]
        }
      ],
      "source": [
        "def check_selection(selection):\n",
        "  match selection:\n",
        "    case 1:\n",
        "      answer = num1 + num2\n",
        "      print(\"\\n\", num1, \"+\", num2, \"=\", answer)\n",
        "    case 2:\n",
        "      answer = num1 - num2\n",
        "      print(\"\\n\", num1, \"-\", num2, \"=\", answer)\n",
        "    case 3:\n",
        "      answer = num1 / num2\n",
        "      print(\"\\n\", num1, \"/\", num2, \"=\", answer)\n",
        "    case 4:\n",
        "      answer = num1 * num2\n",
        "      print(\"\\n\", num1, \"*\", num2, \"=\", answer)\n",
        "  if selection > 4 or selection < 1:\n",
        "      print(\"\\n  Invalid Input\")\n",
        "\n",
        "running = True\n",
        "\n",
        "print(\"\\n [TWO NUMBERED CALCULATOR]\")\n",
        "\n",
        "print(\"\\n Enter 2 numbers and then input the what operation you want.\")\n",
        "\n",
        "while running == True:\n",
        "  while True:\n",
        "    try:\n",
        "      num1 = int(input(\"\\n First Number: \"))\n",
        "      break\n",
        "    except ValueError as ve:\n",
        "      print(\"\\n  Invalid Input\")\n",
        "\n",
        "  while True:\n",
        "    try:\n",
        "      num2 = int(input(\"\\n Second Number: \"))\n",
        "      break\n",
        "    except ValueError as ve:\n",
        "      print(\"\\n  Invalid Input\")\n",
        "\n",
        "  print(\"\\n  1. Addition\\n  2. Subtraction\\n  3. Division\\n  4. Multiplication\")\n",
        "  while True:\n",
        "    try:\n",
        "      selection = int(input(\"\\n Your Selection: \"))\n",
        "      if selection > 0 and selection < 5:\n",
        "        break\n",
        "      else:\n",
        "        print(\"\\n  Invalid Input\")\n",
        "    except ValueError as ve:\n",
        "      print(\"\\n  Invalid Input\")\n",
        "  check_selection(selection)\n",
        "\n",
        "  print(\"\\n Restart? \\n\\n  1. Yes\\n  2. No\")\n",
        "  while True:\n",
        "    try:\n",
        "      restart = int(input(\"\\n Your Selection: \"))\n",
        "      if restart == 1:\n",
        "        break\n",
        "      elif restart == 2:\n",
        "        running = False\n",
        "        break\n",
        "      else:\n",
        "         print(\"\\n  Invalid Input\")\n",
        "    except ValueError as ve:\n",
        "      print(\"\\n  Invalid Input\")"
      ]
    }
  ]
}