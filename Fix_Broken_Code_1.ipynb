{
  "nbformat": 4,
  "nbformat_minor": 0,
  "metadata": {
    "colab": {
      "provenance": [],
      "include_colab_link": true
    },
    "kernelspec": {
      "name": "python3",
      "display_name": "Python 3"
    },
    "language_info": {
      "name": "python"
    }
  },
  "cells": [
    {
      "cell_type": "markdown",
      "metadata": {
        "id": "view-in-github",
        "colab_type": "text"
      },
      "source": [
        "<a href=\"https://colab.research.google.com/github/George-Taylor-Woodward-School-Account/Python/blob/main/Fix_Broken_Code_1.ipynb\" target=\"_parent\"><img src=\"https://colab.research.google.com/assets/colab-badge.svg\" alt=\"Open In Colab\"/></a>"
      ]
    },
    {
      "cell_type": "markdown",
      "source": [
        "# FIX BROKEN CODE 1"
      ],
      "metadata": {
        "id": "PC4Ip85Jr7yA"
      }
    },
    {
      "cell_type": "code",
      "execution_count": 1,
      "metadata": {
        "id": "D7ZYNuM0q67R",
        "outputId": "11e73795-3bcf-4c3f-f1d4-0b8c7307b264",
        "colab": {
          "base_uri": "https://localhost:8080/"
        }
      },
      "outputs": [
        {
          "output_type": "stream",
          "name": "stdout",
          "text": [
            "Hello, world!\n"
          ]
        }
      ],
      "source": [
        "print(\"Hello, world!\")"
      ]
    },
    {
      "cell_type": "markdown",
      "source": [
        "What was the error ?\n",
        "Answer :"
      ],
      "metadata": {
        "id": "XKLet5FEtkXQ"
      }
    },
    {
      "cell_type": "code",
      "source": [
        "my_number = 10\n",
        "print(my_number)"
      ],
      "metadata": {
        "id": "M-s4qDg2sFWz",
        "outputId": "e8c025e1-abf0-42c0-9389-6852eef264b7",
        "colab": {
          "base_uri": "https://localhost:8080/"
        }
      },
      "execution_count": 2,
      "outputs": [
        {
          "output_type": "stream",
          "name": "stdout",
          "text": [
            "10\n"
          ]
        }
      ]
    },
    {
      "cell_type": "markdown",
      "source": [
        "What was the error ?\n",
        "Answer :"
      ],
      "metadata": {
        "id": "C0NP6Jd7tpZp"
      }
    },
    {
      "cell_type": "code",
      "source": [
        "def greet():\n",
        "  name = input(\"Enter your name: \")\n",
        "  print(\"Hello, \" + name)"
      ],
      "metadata": {
        "id": "iQxoGQ1SsUEA"
      },
      "execution_count": 4,
      "outputs": []
    },
    {
      "cell_type": "markdown",
      "source": [
        "What was the error ?\n",
        "Answer :"
      ],
      "metadata": {
        "id": "Ap3NxpT5trax"
      }
    },
    {
      "cell_type": "code",
      "source": [
        "age = int(input(\"Enter your age: \"))\n",
        "age += 1\n",
        "print(\"Next year, you will be \", str(age))"
      ],
      "metadata": {
        "id": "D0fxS0w4sfz2",
        "outputId": "cb719e69-c2c4-4fa1-824a-acd7198fde43",
        "colab": {
          "base_uri": "https://localhost:8080/"
        }
      },
      "execution_count": 17,
      "outputs": [
        {
          "output_type": "stream",
          "name": "stdout",
          "text": [
            "Enter your age: 5\n",
            "Next year, you will be  6\n"
          ]
        }
      ]
    },
    {
      "cell_type": "markdown",
      "source": [
        "What was the error ?\n",
        "Answer :"
      ],
      "metadata": {
        "id": "B7dY9waHtspn"
      }
    },
    {
      "cell_type": "code",
      "source": [
        "def add_numbers(A, B):\n",
        "    return 'a' + 'b'\n",
        "print(add_numbers('5', '3'))"
      ],
      "metadata": {
        "id": "cr4Di-Moshxa",
        "outputId": "e754fef9-5a4f-46fc-caf8-df05a052086a",
        "colab": {
          "base_uri": "https://localhost:8080/"
        }
      },
      "execution_count": 24,
      "outputs": [
        {
          "output_type": "stream",
          "name": "stdout",
          "text": [
            "ab\n"
          ]
        }
      ]
    },
    {
      "cell_type": "markdown",
      "source": [
        "What was the error ?\n",
        "Answer :"
      ],
      "metadata": {
        "id": "Voaq60z9ttJW"
      }
    },
    {
      "cell_type": "code",
      "source": [
        "def multiply(x, y):\n",
        "  return x * y\n",
        "\n",
        "print(multiply(4, 2))"
      ],
      "metadata": {
        "id": "v_sucHpespLK",
        "outputId": "715fc7d5-2365-438f-defe-4258bc74d6f0",
        "colab": {
          "base_uri": "https://localhost:8080/"
        }
      },
      "execution_count": 29,
      "outputs": [
        {
          "output_type": "stream",
          "name": "stdout",
          "text": [
            "8\n"
          ]
        }
      ]
    },
    {
      "cell_type": "markdown",
      "source": [
        "What was the error ?\n",
        "Answer :"
      ],
      "metadata": {
        "id": "s-UtRPw3tt_j"
      }
    },
    {
      "cell_type": "code",
      "source": [
        "numbers = [1, 2, 3, 4, 5]\n",
        "for i in numbers\n",
        "    print i"
      ],
      "metadata": {
        "id": "m6f6EW7Ts3zQ"
      },
      "execution_count": null,
      "outputs": []
    },
    {
      "cell_type": "markdown",
      "source": [
        "What was the error ?\n",
        "Answer :"
      ],
      "metadata": {
        "id": "tRA2Cwpbtufn"
      }
    },
    {
      "cell_type": "code",
      "source": [
        "student = {\"name\": \"Alex\", \"age\": 21}\n",
        "print(student[\"name\"])"
      ],
      "metadata": {
        "id": "x84ylEg4s-GH",
        "outputId": "47d1594a-0c63-4906-b42d-961b52d15df9",
        "colab": {
          "base_uri": "https://localhost:8080/"
        }
      },
      "execution_count": 34,
      "outputs": [
        {
          "output_type": "stream",
          "name": "stdout",
          "text": [
            "Alex\n"
          ]
        }
      ]
    },
    {
      "cell_type": "markdown",
      "source": [
        "What was the error ?\n",
        "Answer :"
      ],
      "metadata": {
        "id": "K0Ofjlvbtu6s"
      }
    },
    {
      "cell_type": "code",
      "source": [
        "def check_even(n):\n",
        "    if n % 2 == 0:\n",
        "        print(\"Even\")\n",
        "    else:\n",
        "        print(\"Odd\")\n",
        "\n",
        "check_even(4)\n"
      ],
      "metadata": {
        "id": "XmSSi4yhtH5M",
        "outputId": "f126b603-e776-4d5f-d2fa-ff339e94c890",
        "colab": {
          "base_uri": "https://localhost:8080/"
        }
      },
      "execution_count": 36,
      "outputs": [
        {
          "output_type": "stream",
          "name": "stdout",
          "text": [
            "Even\n"
          ]
        }
      ]
    },
    {
      "cell_type": "markdown",
      "source": [
        "What was the error ?\n",
        "Answer :"
      ],
      "metadata": {
        "id": "o6oubHCztvi-"
      }
    }
  ]
}