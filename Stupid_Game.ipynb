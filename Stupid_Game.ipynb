{
  "nbformat": 4,
  "nbformat_minor": 0,
  "metadata": {
    "colab": {
      "provenance": [],
      "authorship_tag": "ABX9TyNmSqlaJhAHPubMeZkXhr6v",
      "include_colab_link": true
    },
    "kernelspec": {
      "name": "python3",
      "display_name": "Python 3"
    },
    "language_info": {
      "name": "python"
    }
  },
  "cells": [
    {
      "cell_type": "markdown",
      "metadata": {
        "id": "view-in-github",
        "colab_type": "text"
      },
      "source": [
        "<a href=\"https://colab.research.google.com/github/George-Taylor-Woodward-School-Account/Python/blob/main/Stupid_Game.ipynb\" target=\"_parent\"><img src=\"https://colab.research.google.com/assets/colab-badge.svg\" alt=\"Open In Colab\"/></a>"
      ]
    },
    {
      "cell_type": "code",
      "source": [
        "import random\n",
        "\n",
        "number = random.randint(0,1000)\n",
        "\n",
        "print(\"\\n\\n          (Guess The Number)\")\n",
        "\n",
        "running = True\n",
        "\n",
        "while running == True:\n",
        "  while True:\n",
        "    try:\n",
        "      num = int(input(\"\\n          Guess: \"))\n",
        "      break\n",
        "    except ValueError as ve:\n",
        "      print(\"\\n          That is not a number!\")\n",
        "  if num > number:\n",
        "    print(\"\\n          Lower\")\n",
        "  elif num < number:\n",
        "    print(\"\\n          Higher\")\n",
        "  else:\n",
        "    print(\"\\n          Correct!\")\n",
        "    while True:\n",
        "      try:\n",
        "        again = int(input(\"\\n          Again? 1/0: \"))\n",
        "        if again == 0:\n",
        "          running = False\n",
        "          break\n",
        "        elif again == 1:\n",
        "          break\n",
        "        else:\n",
        "          print(\"\\n          Invalid input!\")\n",
        "      except ValueError as ve:\n",
        "        print(\"\\n          That is not a number!\")"
      ],
      "metadata": {
        "colab": {
          "base_uri": "https://localhost:8080/"
        },
        "id": "HAD5IAODr4Am",
        "outputId": "2698985d-ca5c-48d1-e6ba-a7702da75d68"
      },
      "execution_count": null,
      "outputs": [
        {
          "output_type": "stream",
          "name": "stdout",
          "text": [
            "\n",
            "\n",
            "          (Guess The Number)\n"
          ]
        }
      ]
    }
  ]
}