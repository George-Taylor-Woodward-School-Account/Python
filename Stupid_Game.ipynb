{
  "nbformat": 4,
  "nbformat_minor": 0,
  "metadata": {
    "colab": {
      "provenance": [],
      "authorship_tag": "ABX9TyMjSoMTuM3SO9+LxOo1D7R7",
      "include_colab_link": true
    },
    "kernelspec": {
      "name": "python3",
      "display_name": "Python 3"
    },
    "language_info": {
      "name": "python"
    }
  },
  "cells": [
    {
      "cell_type": "markdown",
      "metadata": {
        "id": "view-in-github",
        "colab_type": "text"
      },
      "source": [
        "<a href=\"https://colab.research.google.com/github/George-Taylor-Woodward-School-Account/Python/blob/main/Stupid_Game.ipynb\" target=\"_parent\"><img src=\"https://colab.research.google.com/assets/colab-badge.svg\" alt=\"Open In Colab\"/></a>"
      ]
    },
    {
      "cell_type": "code",
      "source": [
        "import random\n",
        "\n",
        "number = random.randint(0,1000)\n",
        "\n",
        "print(\"(Guess The Number)\")\n",
        "\n",
        "running = True\n",
        "\n",
        "while running == True:\n",
        "  while True:\n",
        "    try:\n",
        "      num = int(input(\"\\nGuess: \"))\n",
        "      break\n",
        "    except ValueError as ve:\n",
        "      print(\"\\nThat is not a number!\")\n",
        "  if num > number:\n",
        "    print(\"\\nLower\")\n",
        "  elif num < number:\n",
        "    print(\"\\nHigher\")\n",
        "  else:\n",
        "    print(\"\\nCorrect!\")\n",
        "    running = False"
      ],
      "metadata": {
        "colab": {
          "base_uri": "https://localhost:8080/"
        },
        "id": "HAD5IAODr4Am",
        "outputId": "2638582f-503b-4589-ebca-05246bf3b552"
      },
      "execution_count": 14,
      "outputs": [
        {
          "output_type": "stream",
          "name": "stdout",
          "text": [
            "(Guess The Number)\n",
            "\n",
            "Guess: 4\n",
            "\n",
            "Higher\n",
            "\n",
            "Guess: 70\n",
            "\n",
            "Higher\n",
            "\n",
            "Guess: 300\n",
            "\n",
            "Higher\n",
            "\n",
            "Guess: 800\n",
            "\n",
            "Lower\n",
            "\n",
            "Guess: 700\n",
            "\n",
            "Higher\n",
            "\n",
            "Guess: 750\n",
            "\n",
            "Lower\n",
            "\n",
            "Guess: 720\n",
            "\n",
            "Lower\n",
            "\n",
            "Guess: 710\n",
            "\n",
            "Lower\n",
            "\n",
            "Guess: 70\n",
            "\n",
            "Higher\n",
            "\n",
            "Guess: 705\n",
            "\n",
            "Higher\n",
            "\n",
            "Guess: 708\n",
            "\n",
            "Lower\n",
            "\n",
            "Guess: 706\n",
            "\n",
            "Higher\n",
            "\n",
            "Guess: 707\n",
            "\n",
            "Correct!\n"
          ]
        }
      ]
    }
  ]
}