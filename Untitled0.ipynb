{
  "nbformat": 4,
  "nbformat_minor": 0,
  "metadata": {
    "colab": {
      "provenance": [],
      "authorship_tag": "ABX9TyNSbWrWvzpFU3nyxUHzTdUl",
      "include_colab_link": true
    },
    "kernelspec": {
      "name": "python3",
      "display_name": "Python 3"
    },
    "language_info": {
      "name": "python"
    }
  },
  "cells": [
    {
      "cell_type": "markdown",
      "metadata": {
        "id": "view-in-github",
        "colab_type": "text"
      },
      "source": [
        "<a href=\"https://colab.research.google.com/github/George-Taylor-Woodward-School-Account/Python/blob/main/Untitled0.ipynb\" target=\"_parent\"><img src=\"https://colab.research.google.com/assets/colab-badge.svg\" alt=\"Open In Colab\"/></a>"
      ]
    },
    {
      "cell_type": "code",
      "execution_count": null,
      "metadata": {
        "colab": {
          "base_uri": "https://localhost:8080/"
        },
        "id": "CjXw554e-AG3",
        "outputId": "7dbc5a7b-57dd-4d74-e07b-3f0cf6dd5555"
      },
      "outputs": [
        {
          "output_type": "stream",
          "name": "stdout",
          "text": [
            "5.0\n",
            "1.0\n",
            "0.7853981633974483\n",
            "0.8509035245341184\n",
            "0.5253219888177297\n",
            "1.6197751905438615\n",
            "40.51423422706977\n",
            "1.0471975511965976\n",
            "-0.3048106211022167\n",
            "-0.9524129804151563\n",
            "0.320040389379563\n"
          ]
        }
      ],
      "source": [
        "import math\n",
        "\n",
        "print(math.sqrt(25))\n",
        "\n",
        "print(math.pow(1, 3))\n",
        "\n",
        "angle = 45\n",
        "radian = math.radians(angle)\n",
        "print(radian)\n",
        "\n",
        "print(math.sin(45))\n",
        "print(math.cos(45))\n",
        "print(math.tan(45))\n",
        "\n",
        "print(math.degrees(math.sin(0.7853981633974483)))\n",
        "\n",
        "angle = 60\n",
        "print(math.radians(angle))\n",
        "\n",
        "print(math.sin(angle))\n",
        "print(math.cos(angle))\n",
        "print(math.tan(angle))"
      ]
    }
  ]
}