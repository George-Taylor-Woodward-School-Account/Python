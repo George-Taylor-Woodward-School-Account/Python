{
  "nbformat": 4,
  "nbformat_minor": 0,
  "metadata": {
    "colab": {
      "provenance": [],
      "include_colab_link": true
    },
    "kernelspec": {
      "name": "python3",
      "display_name": "Python 3"
    },
    "language_info": {
      "name": "python"
    }
  },
  "cells": [
    {
      "cell_type": "markdown",
      "metadata": {
        "id": "view-in-github",
        "colab_type": "text"
      },
      "source": [
        "<a href=\"https://colab.research.google.com/github/George-Taylor-Woodward-School-Account/Python/blob/main/Math_Ex1.ipynb\" target=\"_parent\"><img src=\"https://colab.research.google.com/assets/colab-badge.svg\" alt=\"Open In Colab\"/></a>"
      ]
    },
    {
      "cell_type": "markdown",
      "source": [
        "# MATH PYTHON EXERCISE 1"
      ],
      "metadata": {
        "id": "DyT267uWSfzo"
      }
    },
    {
      "cell_type": "markdown",
      "source": [
        "1. Import math correctly"
      ],
      "metadata": {
        "id": "05uxMSoJSkZ4"
      }
    },
    {
      "cell_type": "code",
      "execution_count": 1,
      "metadata": {
        "id": "mR-BCYnKScOn"
      },
      "outputs": [],
      "source": [
        "import math"
      ]
    },
    {
      "cell_type": "markdown",
      "source": [
        "2. Convert 90 degrees to radians and print it"
      ],
      "metadata": {
        "id": "GkvsHhJYS3V5"
      }
    },
    {
      "cell_type": "code",
      "source": [
        "print(math.radians(90))"
      ],
      "metadata": {
        "id": "VbxKmhXBS7fW",
        "colab": {
          "base_uri": "https://localhost:8080/"
        },
        "outputId": "d3ffc69c-4e82-4759-fda4-d32d0de85e31"
      },
      "execution_count": 3,
      "outputs": [
        {
          "output_type": "stream",
          "name": "stdout",
          "text": [
            "1.5707963267948966\n"
          ]
        }
      ]
    },
    {
      "cell_type": "markdown",
      "source": [
        "3. Calculate sin 70, cos 70, tan 70"
      ],
      "metadata": {
        "id": "E_K68TvTS73G"
      }
    },
    {
      "cell_type": "code",
      "source": [
        "print(math.sin(70))\n",
        "print(math.cos(70))\n",
        "print(math.tan(70))"
      ],
      "metadata": {
        "id": "RU02BKOlTC87"
      },
      "execution_count": null,
      "outputs": []
    },
    {
      "cell_type": "markdown",
      "source": [
        "4. Calculate sin inverse (0.9396926207859083) cos inverse (0.342020143325668) and tan inverse (2.747477419454621)"
      ],
      "metadata": {
        "id": "ZschTX83TD2T"
      }
    },
    {
      "cell_type": "code",
      "source": [
        "print(math.asin(0.9396926207859083))\n",
        "print(math.acos(0.342020143325668))\n",
        "print(math.atan(2.747477419454621))"
      ],
      "metadata": {
        "id": "fNm4gUBGTLb5",
        "colab": {
          "base_uri": "https://localhost:8080/"
        },
        "outputId": "f6ff4375-0c3c-4c68-daa1-3667e85eb3de"
      },
      "execution_count": 5,
      "outputs": [
        {
          "output_type": "stream",
          "name": "stdout",
          "text": [
            "1.2217304763960306\n",
            "1.2217304763960315\n",
            "1.2217304763960306\n"
          ]
        }
      ]
    },
    {
      "cell_type": "markdown",
      "source": [
        "5. Calculat the area of a circle with radius 7"
      ],
      "metadata": {
        "id": "4GI_0CvFTLyq"
      }
    },
    {
      "cell_type": "code",
      "source": [
        "print(math.pi*7**2)"
      ],
      "metadata": {
        "id": "DJO4QSf3TQAI",
        "colab": {
          "base_uri": "https://localhost:8080/"
        },
        "outputId": "659be7a6-7398-4d89-d855-7e2a58926181"
      },
      "execution_count": 6,
      "outputs": [
        {
          "output_type": "stream",
          "name": "stdout",
          "text": [
            "153.93804002589985\n"
          ]
        }
      ]
    },
    {
      "cell_type": "markdown",
      "source": [
        "6.Calculate the circumference of a circle with radius 7"
      ],
      "metadata": {
        "id": "hijI42uJTQQ6"
      }
    },
    {
      "cell_type": "code",
      "source": [
        "print(math.pi*14)"
      ],
      "metadata": {
        "id": "bl2Aw54MTU9_",
        "colab": {
          "base_uri": "https://localhost:8080/"
        },
        "outputId": "dea236a9-755f-4c3f-8484-75d57ae2609e"
      },
      "execution_count": 7,
      "outputs": [
        {
          "output_type": "stream",
          "name": "stdout",
          "text": [
            "43.982297150257104\n"
          ]
        }
      ]
    },
    {
      "cell_type": "markdown",
      "source": [
        "7. Find the cube root of 343 using the math.pow() function"
      ],
      "metadata": {
        "id": "G1ceCYkGTVeb"
      }
    },
    {
      "cell_type": "code",
      "source": [],
      "metadata": {
        "id": "PaOHKiQuTfub"
      },
      "execution_count": null,
      "outputs": []
    },
    {
      "cell_type": "markdown",
      "source": [
        "8. Calculate the floor and ceil of 7.83."
      ],
      "metadata": {
        "id": "MnWyQq3_TgMk"
      }
    },
    {
      "cell_type": "code",
      "source": [],
      "metadata": {
        "id": "_AAHRdk3Toea"
      },
      "execution_count": null,
      "outputs": []
    },
    {
      "cell_type": "markdown",
      "source": [
        "9. Verify identity of (sin45)^2 + (cos45)^2 is approximately equal to 1"
      ],
      "metadata": {
        "id": "t3-Uyg91To7x"
      }
    },
    {
      "cell_type": "code",
      "source": [],
      "metadata": {
        "id": "TTB2YibnUJU-"
      },
      "execution_count": null,
      "outputs": []
    },
    {
      "cell_type": "markdown",
      "source": [
        "10. An object is dropped from a height of 78.4 meters.\n",
        "How long will it take to hit the ground?\n",
        "(Use the formula: t = √2h/g , g = 9.8"
      ],
      "metadata": {
        "id": "0_HbNRXlUJl8"
      }
    },
    {
      "cell_type": "code",
      "source": [],
      "metadata": {
        "id": "zaVO6Fo1UjKl"
      },
      "execution_count": null,
      "outputs": []
    },
    {
      "cell_type": "markdown",
      "source": [
        "11. Area of an Equilateral Triangle\n",
        "Given the side length of an equilateral triangle is 6 units, calculate its area.\n",
        "Use the formula: Area = √(3/4) * (side)^2"
      ],
      "metadata": {
        "id": "lFK6CYF_UjhE"
      }
    },
    {
      "cell_type": "code",
      "source": [],
      "metadata": {
        "id": "GSQuQ7UBUvuL"
      },
      "execution_count": null,
      "outputs": []
    }
  ]
}