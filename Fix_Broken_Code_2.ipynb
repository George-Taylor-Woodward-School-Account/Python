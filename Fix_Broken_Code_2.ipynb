{
  "nbformat": 4,
  "nbformat_minor": 0,
  "metadata": {
    "colab": {
      "provenance": [],
      "include_colab_link": true
    },
    "kernelspec": {
      "name": "python3",
      "display_name": "Python 3"
    },
    "language_info": {
      "name": "python"
    }
  },
  "cells": [
    {
      "cell_type": "markdown",
      "metadata": {
        "id": "view-in-github",
        "colab_type": "text"
      },
      "source": [
        "<a href=\"https://colab.research.google.com/github/George-Taylor-Woodward-School-Account/Python/blob/main/Fix_Broken_Code_2.ipynb\" target=\"_parent\"><img src=\"https://colab.research.google.com/assets/colab-badge.svg\" alt=\"Open In Colab\"/></a>"
      ]
    },
    {
      "cell_type": "markdown",
      "source": [
        "# FIX BROKEN CODE EX -2"
      ],
      "metadata": {
        "id": "08sjzD0crTpa"
      }
    },
    {
      "cell_type": "markdown",
      "source": [
        "What's wrong with this code ? : <answer here>"
      ],
      "metadata": {
        "id": "2m3U8JXZrtuh"
      }
    },
    {
      "cell_type": "code",
      "execution_count": null,
      "metadata": {
        "id": "iVaVnQ9Jp3jO",
        "outputId": "af5c4769-ed63-484e-f3b1-1aa7aa70673e",
        "colab": {
          "base_uri": "https://localhost:8080/"
        }
      },
      "outputs": [
        {
          "output_type": "stream",
          "name": "stdout",
          "text": [
            "The area is: 15\n"
          ]
        }
      ],
      "source": [
        "def calculate_area(width, height):\n",
        "  area = width * height;\n",
        "  return \"The area is: \" + str(area)\n",
        "\n",
        "print(calculate_area(5, 3))\n",
        "# should output 15"
      ]
    },
    {
      "cell_type": "markdown",
      "source": [
        "What's wrong with this code ? : <answer here>"
      ],
      "metadata": {
        "id": "6hVQsnmzr3i8"
      }
    },
    {
      "cell_type": "code",
      "source": [
        "def factorial(n):\n",
        "    if n == 1:\n",
        "        return 1\n",
        "    else:\n",
        "        return n * factorial(n - 1)\n",
        "        print(\"Calculating factorial...\")\n",
        "\n",
        "print(factorial(5))\n",
        "# should output 120"
      ],
      "metadata": {
        "id": "lkxA7zApr4c0",
        "outputId": "2e66ab9d-aa72-428b-95ac-01101c20c4db",
        "colab": {
          "base_uri": "https://localhost:8080/"
        }
      },
      "execution_count": null,
      "outputs": [
        {
          "output_type": "stream",
          "name": "stdout",
          "text": [
            "120\n"
          ]
        }
      ]
    },
    {
      "cell_type": "markdown",
      "source": [
        "What's wrong with this code ? : <answer here>"
      ],
      "metadata": {
        "id": "7vL1tBsqsJPn"
      }
    },
    {
      "cell_type": "code",
      "source": [
        "items = [\"apple\", \"banana\", \"cherry\"]\n",
        "for i in range(len(items)):\n",
        "  print(items[i])\n",
        "# should output :\n",
        "  # apple\n",
        "  # banana\n",
        "  # cherry"
      ],
      "metadata": {
        "id": "3GejQUaAsOtV",
        "outputId": "2a241a3c-a6c8-4bfe-8caf-d416c4265609",
        "colab": {
          "base_uri": "https://localhost:8080/"
        }
      },
      "execution_count": null,
      "outputs": [
        {
          "output_type": "stream",
          "name": "stdout",
          "text": [
            "apple\n",
            "banana\n",
            "cherry\n"
          ]
        }
      ]
    },
    {
      "cell_type": "markdown",
      "source": [
        "What's wrong with this code ? : <answer here>"
      ],
      "metadata": {
        "id": "2hp9rlqjst6F"
      }
    },
    {
      "cell_type": "code",
      "source": [
        "name = \"Alice\"\n",
        "age = 25\n",
        "print(\"Name: \" + name + \", Age: \" + str(age))\n",
        "# should output : Name: Alice, Age: 25"
      ],
      "metadata": {
        "id": "CBSFawIksvpu",
        "outputId": "7104ef56-bd95-495f-8265-1cb112c2e3c3",
        "colab": {
          "base_uri": "https://localhost:8080/"
        }
      },
      "execution_count": null,
      "outputs": [
        {
          "output_type": "stream",
          "name": "stdout",
          "text": [
            "Name: Alice, Age: 25\n"
          ]
        }
      ]
    },
    {
      "cell_type": "markdown",
      "source": [
        "What's wrong with this code ? : <answer here>"
      ],
      "metadata": {
        "id": "1cS9jPX7s5tV"
      }
    },
    {
      "cell_type": "code",
      "source": [
        "\n",
        "# This function has multiple issues but is easier to debug.\n",
        "def process_data(data_list):\n",
        "    result = []\n",
        "    for i in range(len(data_list)):\n",
        "        if data_list[i] % 2 == 0:\n",
        "            result.append(\"Even: \" + str(data_list[i]))\n",
        "        else:\n",
        "            result.append(\"Odd: \" + str(data_list[i]))\n",
        "\n",
        "    return result\n",
        "\n",
        "data = [1, 2, 3, 4, 5]\n",
        "print(process_data(data))\n",
        "\n",
        "# Expected Output (if errors are fixed):\n",
        "# ['Odd: 1', 'Even: 2', 'Odd: 3', 'Even: 4', 'Odd: 5']\n"
      ],
      "metadata": {
        "id": "1euekMk_s-Nj",
        "outputId": "de5f6c29-c39a-4e67-c7ff-28f6f70a9620",
        "colab": {
          "base_uri": "https://localhost:8080/"
        }
      },
      "execution_count": 15,
      "outputs": [
        {
          "output_type": "stream",
          "name": "stdout",
          "text": [
            "['Odd: 1', 'Even: 2', 'Odd: 3', 'Even: 4', 'Odd: 5']\n"
          ]
        }
      ]
    },
    {
      "cell_type": "markdown",
      "source": [
        "What's wrong with this code ? : <answer here>"
      ],
      "metadata": {
        "id": "Mp4Tja09xZBY"
      }
    },
    {
      "cell_type": "code",
      "source": [
        "def greet(name):\n",
        "    return f\"Hello, {name}\"\n",
        "\n",
        "print(greet(\"John\"))\n",
        "# should output : Hello, John"
      ],
      "metadata": {
        "id": "QDa1Zac_xdVb",
        "outputId": "6ed4d107-eaf9-45eb-97b2-60b6ce43926c",
        "colab": {
          "base_uri": "https://localhost:8080/"
        }
      },
      "execution_count": null,
      "outputs": [
        {
          "output_type": "stream",
          "name": "stdout",
          "text": [
            "Hello, John\n"
          ]
        }
      ]
    },
    {
      "cell_type": "markdown",
      "source": [
        "What's wrong with this code ? : <answer here>"
      ],
      "metadata": {
        "id": "cXqL2Fb6yMxk"
      }
    },
    {
      "cell_type": "code",
      "source": [
        "# This function processes customer orders and calculates discounts\n",
        "def process_orders(orders):\n",
        "    total_price = 0\n",
        "    for order in orders:\n",
        "        if \"price\" in order and \"quantity\" in order:\n",
        "            total_price += order[\"price\"] * order[quantity]\n",
        "        else:\n",
        "            print(\"Invalid order: \" + order)\n",
        "\n",
        "    discount = 0.1 if total_price > 100 else 0.05\n",
        "    final_price = total_price - total_price * discount\n",
        "    return \"Total after discount: \" + final_price\n",
        "\n",
        "orders = [\n",
        "    {\"item\": \"Laptop\", \"price\": 900, \"quantity\": 1},\n",
        "    {\"item\": \"Mouse\", \"price\": 25, \"quantity\": 2},\n",
        "    {\"item\": \"Keyboard\", \"price\": \"50\", \"quantity\": 1},\n",
        "    {\"item\": \"Monitor\", \"quantity\": 1}\n",
        "]\n",
        "\n",
        "print(process_orders(orders))\n",
        "\n",
        "# Expected Output (if errors are fixed):\n",
        "# 'Total after discount: 927.0'\n"
      ],
      "metadata": {
        "id": "xo_k2aiWyPD_",
        "outputId": "8df811fe-5b0c-4b9a-dc02-0c52a804bfc1",
        "colab": {
          "base_uri": "https://localhost:8080/",
          "height": 332
        }
      },
      "execution_count": 16,
      "outputs": [
        {
          "output_type": "error",
          "ename": "NameError",
          "evalue": "name 'quantity' is not defined",
          "traceback": [
            "\u001b[0;31m---------------------------------------------------------------------------\u001b[0m",
            "\u001b[0;31mNameError\u001b[0m                                 Traceback (most recent call last)",
            "\u001b[0;32m<ipython-input-16-134766b685ff>\u001b[0m in \u001b[0;36m<cell line: 0>\u001b[0;34m()\u001b[0m\n\u001b[1;32m     19\u001b[0m ]\n\u001b[1;32m     20\u001b[0m \u001b[0;34m\u001b[0m\u001b[0m\n\u001b[0;32m---> 21\u001b[0;31m \u001b[0mprint\u001b[0m\u001b[0;34m(\u001b[0m\u001b[0mprocess_orders\u001b[0m\u001b[0;34m(\u001b[0m\u001b[0morders\u001b[0m\u001b[0;34m)\u001b[0m\u001b[0;34m)\u001b[0m\u001b[0;34m\u001b[0m\u001b[0;34m\u001b[0m\u001b[0m\n\u001b[0m\u001b[1;32m     22\u001b[0m \u001b[0;34m\u001b[0m\u001b[0m\n\u001b[1;32m     23\u001b[0m \u001b[0;31m# Expected Output (if errors are fixed):\u001b[0m\u001b[0;34m\u001b[0m\u001b[0;34m\u001b[0m\u001b[0m\n",
            "\u001b[0;32m<ipython-input-16-134766b685ff>\u001b[0m in \u001b[0;36mprocess_orders\u001b[0;34m(orders)\u001b[0m\n\u001b[1;32m      4\u001b[0m     \u001b[0;32mfor\u001b[0m \u001b[0morder\u001b[0m \u001b[0;32min\u001b[0m \u001b[0morders\u001b[0m\u001b[0;34m:\u001b[0m\u001b[0;34m\u001b[0m\u001b[0;34m\u001b[0m\u001b[0m\n\u001b[1;32m      5\u001b[0m         \u001b[0;32mif\u001b[0m \u001b[0;34m\"price\"\u001b[0m \u001b[0;32min\u001b[0m \u001b[0morder\u001b[0m \u001b[0;32mand\u001b[0m \u001b[0;34m\"quantity\"\u001b[0m \u001b[0;32min\u001b[0m \u001b[0morder\u001b[0m\u001b[0;34m:\u001b[0m\u001b[0;34m\u001b[0m\u001b[0;34m\u001b[0m\u001b[0m\n\u001b[0;32m----> 6\u001b[0;31m             \u001b[0mtotal_price\u001b[0m \u001b[0;34m+=\u001b[0m \u001b[0morder\u001b[0m\u001b[0;34m[\u001b[0m\u001b[0;34m\"price\"\u001b[0m\u001b[0;34m]\u001b[0m \u001b[0;34m*\u001b[0m \u001b[0morder\u001b[0m\u001b[0;34m[\u001b[0m\u001b[0mquantity\u001b[0m\u001b[0;34m]\u001b[0m\u001b[0;34m\u001b[0m\u001b[0;34m\u001b[0m\u001b[0m\n\u001b[0m\u001b[1;32m      7\u001b[0m         \u001b[0;32melse\u001b[0m\u001b[0;34m:\u001b[0m\u001b[0;34m\u001b[0m\u001b[0;34m\u001b[0m\u001b[0m\n\u001b[1;32m      8\u001b[0m             \u001b[0mprint\u001b[0m\u001b[0;34m(\u001b[0m\u001b[0;34m\"Invalid order: \"\u001b[0m \u001b[0;34m+\u001b[0m \u001b[0morder\u001b[0m\u001b[0;34m)\u001b[0m\u001b[0;34m\u001b[0m\u001b[0;34m\u001b[0m\u001b[0m\n",
            "\u001b[0;31mNameError\u001b[0m: name 'quantity' is not defined"
          ]
        }
      ]
    }
  ]
}